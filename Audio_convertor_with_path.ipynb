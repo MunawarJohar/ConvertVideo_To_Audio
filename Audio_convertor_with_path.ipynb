{
 "cells": [
  {
   "cell_type": "code",
   "execution_count": 1,
   "id": "1fe3d01d",
   "metadata": {},
   "outputs": [],
   "source": [
    "#first import moviepy module\n",
    "import moviepy.editor\n",
    "from tkinter.filedialog import*"
   ]
  },
  {
   "cell_type": "code",
   "execution_count": null,
   "id": "9d06841e",
   "metadata": {},
   "outputs": [],
   "source": [
    "video_open=askopenfilename() #it open the file \n",
    "video_clip=moviepy.editor.VideoFileClip(video_open)\n",
    "audio=video_clip.audio  #convert into autio\n",
    "audio.write_audiofile(\"audioSecond.mp3\")"
   ]
  },
  {
   "cell_type": "code",
   "execution_count": null,
   "id": "c8a40997",
   "metadata": {},
   "outputs": [],
   "source": []
  }
 ],
 "metadata": {
  "kernelspec": {
   "display_name": "Python 3 (ipykernel)",
   "language": "python",
   "name": "python3"
  },
  "language_info": {
   "codemirror_mode": {
    "name": "ipython",
    "version": 3
   },
   "file_extension": ".py",
   "mimetype": "text/x-python",
   "name": "python",
   "nbconvert_exporter": "python",
   "pygments_lexer": "ipython3",
   "version": "3.10.4"
  }
 },
 "nbformat": 4,
 "nbformat_minor": 5
}
